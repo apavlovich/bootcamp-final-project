{
 "cells": [
  {
   "cell_type": "code",
   "execution_count": 17,
   "id": "violent-recorder",
   "metadata": {},
   "outputs": [],
   "source": [
    "import numpy as np\n",
    "import pandas as pd\n",
    "import PIL\n",
    "from PIL import Image\n",
    "from keras.preprocessing.image import ImageDataGenerator,load_img\n",
    "# from keras.utils import to_categorical\n",
    "from sklearn.model_selection import train_test_split\n",
    "import matplotlib.pyplot as plt\n",
    "import random\n",
    "import os\n",
    "from random import seed\n",
    "from random import random, sample"
   ]
  },
  {
   "cell_type": "code",
   "execution_count": 18,
   "id": "czech-timber",
   "metadata": {},
   "outputs": [],
   "source": [
    "Image_Width=128\n",
    "Image_Height=128\n",
    "Image_Size=(Image_Width,Image_Height)\n",
    "Image_Channels=3"
   ]
  },
  {
   "cell_type": "code",
   "execution_count": 19,
   "id": "written-creature",
   "metadata": {},
   "outputs": [
    {
     "name": "stdout",
     "output_type": "stream",
     "text": [
      "['cat.9951.jpg', 'dog.9659.jpg', 'cat.12202.jpg', 'cat.7159.jpg', 'cat.7076.jpg', 'cat.2417.jpg', 'cat.3801.jpg', 'dog.6290.jpg', 'cat.9946.jpg', 'cat.3888.jpg', 'dog.3452.jpg', 'cat.11457.jpg', 'cat.6765.jpg', 'dog.6147.jpg', 'cat.2425.jpg', 'dog.5517.jpg', 'cat.4785.jpg', 'dog.7625.jpg', 'dog.7394.jpg', 'cat.10586.jpg', 'cat.5897.jpg', 'dog.8909.jpg', 'cat.9033.jpg', 'cat.7191.jpg', 'cat.11908.jpg', 'dog.3818.jpg', 'dog.548.jpg', 'cat.509.jpg', 'cat.2177.jpg', 'dog.8170.jpg', 'cat.8497.jpg', 'cat.11213.jpg', 'dog.9598.jpg', 'dog.4285.jpg', 'cat.8303.jpg', 'cat.11204.jpg', 'dog.6229.jpg', 'dog.7228.jpg', 'cat.8613.jpg', 'dog.10179.jpg', 'dog.10301.jpg', 'cat.189.jpg', 'cat.7072.jpg', 'cat.5060.jpg', 'cat.5257.jpg', 'cat.7674.jpg', 'cat.12104.jpg', 'cat.8966.jpg', 'cat.6920.jpg', 'cat.6742.jpg', 'dog.5166.jpg', 'dog.3701.jpg', 'cat.11565.jpg', 'cat.7949.jpg', 'dog.1944.jpg', 'dog.5490.jpg', 'cat.3392.jpg', 'cat.10235.jpg', 'dog.9575.jpg', 'cat.6782.jpg', 'dog.9492.jpg', 'dog.5691.jpg', 'dog.8088.jpg', 'dog.3887.jpg', 'dog.8027.jpg', 'cat.7647.jpg', 'cat.12200.jpg', 'dog.4526.jpg', 'dog.5286.jpg', 'cat.3507.jpg', 'dog.8639.jpg', 'cat.9013.jpg', 'cat.3161.jpg', 'cat.11143.jpg', 'cat.7535.jpg', 'cat.3678.jpg', 'cat.3642.jpg', 'dog.5635.jpg', 'cat.506.jpg', 'cat.12032.jpg', 'cat.5249.jpg', 'dog.6361.jpg', 'cat.3571.jpg', 'dog.7176.jpg', 'dog.8823.jpg', 'dog.10504.jpg', 'cat.146.jpg', 'cat.4518.jpg', 'dog.8861.jpg', 'dog.6287.jpg', 'dog.1100.jpg', 'dog.2583.jpg', 'dog.2303.jpg', 'cat.6438.jpg', 'cat.3459.jpg', 'cat.2945.jpg', 'cat.2170.jpg', 'cat.418.jpg', 'cat.1627.jpg', 'cat.12242.jpg', 'dog.9782.jpg', 'dog.10111.jpg', 'cat.5273.jpg', 'cat.5572.jpg', 'cat.2030.jpg', 'dog.4105.jpg', 'dog.6405.jpg', 'cat.680.jpg', 'dog.4212.jpg', 'dog.2518.jpg', 'dog.8279.jpg', 'dog.12012.jpg', 'dog.8812.jpg', 'cat.12002.jpg', 'cat.10862.jpg', 'cat.8370.jpg', 'cat.9635.jpg', 'dog.1148.jpg', 'cat.10878.jpg', 'cat.7930.jpg', 'cat.9629.jpg', 'cat.9647.jpg', 'cat.7982.jpg', 'cat.4846.jpg', 'dog.3665.jpg', 'cat.10018.jpg', 'cat.6169.jpg', 'dog.561.jpg', 'cat.11334.jpg', 'dog.645.jpg', 'cat.11319.jpg', 'dog.7872.jpg', 'dog.8402.jpg', 'dog.9931.jpg', 'dog.10004.jpg', 'dog.10888.jpg', 'cat.4653.jpg', 'dog.1811.jpg', 'cat.8862.jpg', 'dog.12389.jpg', 'cat.10749.jpg', 'dog.9619.jpg', 'dog.4418.jpg', 'cat.8641.jpg', 'dog.10889.jpg', 'cat.8617.jpg', 'dog.7843.jpg', 'cat.4597.jpg', 'dog.603.jpg', 'cat.1245.jpg', 'cat.1600.jpg', 'dog.10497.jpg', 'cat.11641.jpg', 'dog.8323.jpg', 'dog.5828.jpg', 'dog.6920.jpg', 'cat.5987.jpg', 'cat.12139.jpg', 'dog.11104.jpg', 'dog.11258.jpg', 'cat.11455.jpg', 'cat.8809.jpg', 'cat.1874.jpg', 'dog.11071.jpg', 'dog.2314.jpg', 'cat.2404.jpg', 'dog.8831.jpg', 'dog.5089.jpg', 'dog.702.jpg', 'dog.2297.jpg', 'dog.3872.jpg', 'dog.1901.jpg', 'dog.3814.jpg', 'dog.2749.jpg', 'cat.8855.jpg', 'dog.1695.jpg', 'dog.11665.jpg', 'cat.7326.jpg', 'cat.2476.jpg', 'cat.1434.jpg', 'cat.141.jpg', 'dog.5623.jpg', 'dog.11214.jpg', 'dog.10569.jpg', 'dog.9788.jpg', 'dog.605.jpg', 'dog.4172.jpg', 'dog.1120.jpg', 'dog.8143.jpg', 'dog.11647.jpg', 'dog.6773.jpg', 'cat.8425.jpg', 'dog.980.jpg', 'cat.3377.jpg', 'cat.7408.jpg', 'dog.2287.jpg', 'cat.6568.jpg', 'dog.25.jpg', 'cat.10270.jpg', 'cat.10673.jpg']\n",
      "[1, 0, 1, 1, 1, 1, 1, 0, 1, 1, 0, 1, 1, 0, 1, 0, 1, 0, 0, 1, 1, 0, 1, 1, 1, 0, 0, 1, 1, 0, 1, 1, 0, 0, 1, 1, 0, 0, 1, 0, 0, 1, 1, 1, 1, 1, 1, 1, 1, 1, 0, 0, 1, 1, 0, 0, 1, 1, 0, 1, 0, 0, 0, 0, 0, 1, 1, 0, 0, 1, 0, 1, 1, 1, 1, 1, 1, 0, 1, 1, 1, 0, 1, 0, 0, 0, 1, 1, 0, 0, 0, 0, 0, 1, 1, 1, 1, 1, 1, 1, 0, 0, 1, 1, 1, 0, 0, 1, 0, 0, 0, 0, 0, 1, 1, 1, 1, 0, 1, 1, 1, 1, 1, 1, 0, 1, 1, 0, 1, 0, 1, 0, 0, 0, 0, 0, 1, 0, 1, 0, 1, 0, 0, 1, 0, 1, 0, 1, 0, 1, 1, 0, 1, 0, 0, 0, 1, 1, 0, 0, 1, 1, 1, 0, 0, 1, 0, 0, 0, 0, 0, 0, 0, 0, 1, 0, 0, 1, 1, 1, 1, 0, 0, 0, 0, 0, 0, 0, 0, 0, 0, 1, 0, 1, 1, 0, 1, 0, 1, 1]\n"
     ]
    }
   ],
   "source": [
    "# seed(1)\n",
    "# val_ratio = .10\n",
    "\n",
    "filenames=sample(os.listdir(\"Data/train\"),200)\n",
    "\n",
    "categories=[]\n",
    "for f_name in filenames:\n",
    "#      if random() < val_ratio:\n",
    "    category=f_name.split('.')[0]\n",
    "    if category=='cat':\n",
    "        categories.append(1)\n",
    "    else:\n",
    "        categories.append(0)\n",
    "\n",
    "df=pd.DataFrame({\n",
    "    'filename':filenames,\n",
    "    'category':categories\n",
    "})\n",
    "print(filenames)\n",
    "print(categories)"
   ]
  },
  {
   "cell_type": "code",
   "execution_count": 20,
   "id": "useful-onion",
   "metadata": {},
   "outputs": [],
   "source": [
    "from keras.models import Sequential\n",
    "from keras.layers import Conv2D,MaxPooling2D,\\\n",
    "     Dropout,Flatten,Dense,Activation,\\\n",
    "     BatchNormalization\n",
    "\n",
    "model=Sequential()\n",
    "\n",
    "model.add(Conv2D(32,(3,3),activation='relu',input_shape=(Image_Width,Image_Height,Image_Channels)))\n",
    "model.add(BatchNormalization())\n",
    "model.add(MaxPooling2D(pool_size=(2,2)))\n",
    "model.add(Dropout(0.25))\n",
    "\n",
    "model.add(Conv2D(64,(3,3),activation='relu'))\n",
    "model.add(BatchNormalization())\n",
    "model.add(MaxPooling2D(pool_size=(2,2)))\n",
    "model.add(Dropout(0.25))\n",
    "\n",
    "model.add(Conv2D(128,(3,3),activation='relu'))\n",
    "model.add(BatchNormalization())\n",
    "model.add(MaxPooling2D(pool_size=(2,2)))\n",
    "model.add(Dropout(0.25))\n",
    "\n",
    "model.add(Flatten())\n",
    "model.add(Dense(512,activation='relu'))\n",
    "model.add(BatchNormalization())\n",
    "model.add(Dropout(0.5))\n",
    "model.add(Dense(2,activation='softmax'))\n",
    "\n",
    "model.compile(loss='categorical_crossentropy',\n",
    "  optimizer='rmsprop',metrics=['accuracy'])"
   ]
  },
  {
   "cell_type": "code",
   "execution_count": 21,
   "id": "opponent-privilege",
   "metadata": {},
   "outputs": [
    {
     "name": "stdout",
     "output_type": "stream",
     "text": [
      "Model: \"sequential_2\"\n",
      "_________________________________________________________________\n",
      "Layer (type)                 Output Shape              Param #   \n",
      "=================================================================\n",
      "conv2d_4 (Conv2D)            (None, 126, 126, 32)      896       \n",
      "_________________________________________________________________\n",
      "batch_normalization_5 (Batch (None, 126, 126, 32)      128       \n",
      "_________________________________________________________________\n",
      "max_pooling2d_4 (MaxPooling2 (None, 63, 63, 32)        0         \n",
      "_________________________________________________________________\n",
      "dropout_5 (Dropout)          (None, 63, 63, 32)        0         \n",
      "_________________________________________________________________\n",
      "conv2d_5 (Conv2D)            (None, 61, 61, 64)        18496     \n",
      "_________________________________________________________________\n",
      "batch_normalization_6 (Batch (None, 61, 61, 64)        256       \n",
      "_________________________________________________________________\n",
      "max_pooling2d_5 (MaxPooling2 (None, 30, 30, 64)        0         \n",
      "_________________________________________________________________\n",
      "dropout_6 (Dropout)          (None, 30, 30, 64)        0         \n",
      "_________________________________________________________________\n",
      "conv2d_6 (Conv2D)            (None, 28, 28, 128)       73856     \n",
      "_________________________________________________________________\n",
      "batch_normalization_7 (Batch (None, 28, 28, 128)       512       \n",
      "_________________________________________________________________\n",
      "max_pooling2d_6 (MaxPooling2 (None, 14, 14, 128)       0         \n",
      "_________________________________________________________________\n",
      "dropout_7 (Dropout)          (None, 14, 14, 128)       0         \n",
      "_________________________________________________________________\n",
      "flatten_2 (Flatten)          (None, 25088)             0         \n",
      "_________________________________________________________________\n",
      "dense_3 (Dense)              (None, 512)               12845568  \n",
      "_________________________________________________________________\n",
      "batch_normalization_8 (Batch (None, 512)               2048      \n",
      "_________________________________________________________________\n",
      "dropout_8 (Dropout)          (None, 512)               0         \n",
      "_________________________________________________________________\n",
      "dense_4 (Dense)              (None, 2)                 1026      \n",
      "=================================================================\n",
      "Total params: 12,942,786\n",
      "Trainable params: 12,941,314\n",
      "Non-trainable params: 1,472\n",
      "_________________________________________________________________\n"
     ]
    }
   ],
   "source": [
    "model.summary()"
   ]
  },
  {
   "cell_type": "code",
   "execution_count": 22,
   "id": "directed-packaging",
   "metadata": {},
   "outputs": [],
   "source": [
    "from keras.callbacks import EarlyStopping, ReduceLROnPlateau\n",
    "earlystop = EarlyStopping(patience = 10)\n",
    "learning_rate_reduction = ReduceLROnPlateau(monitor = 'val_acc',patience = 2,verbose = 1,factor = 0.5,min_lr = 0.00001)\n",
    "callbacks = [earlystop,learning_rate_reduction]"
   ]
  },
  {
   "cell_type": "code",
   "execution_count": 23,
   "id": "timely-joseph",
   "metadata": {},
   "outputs": [
    {
     "name": "stdout",
     "output_type": "stream",
     "text": [
      "160\n",
      "40\n"
     ]
    }
   ],
   "source": [
    "df[\"category\"] = df[\"category\"].replace({0:'dog',1:'cat'})\n",
    "train_df,validate_df = train_test_split(df,test_size=0.20)\n",
    "\n",
    "train_df = train_df.reset_index(drop=True)\n",
    "validate_df = validate_df.reset_index(drop=True)\n",
    "\n",
    "total_train=train_df.shape[0]\n",
    "total_validate=validate_df.shape[0]\n",
    "batch_size=36\n",
    "print(total_train)\n",
    "print(total_validate)"
   ]
  },
  {
   "cell_type": "code",
   "execution_count": 24,
   "id": "9f6c9bd1",
   "metadata": {},
   "outputs": [],
   "source": [
    "datagen = ImageDataGenerator(rescale=1./255,)"
   ]
  },
  {
   "cell_type": "code",
   "execution_count": 25,
   "id": "6536b65f",
   "metadata": {},
   "outputs": [
    {
     "name": "stdout",
     "output_type": "stream",
     "text": [
      "Found 160 validated image filenames belonging to 2 classes.\n",
      "Found 40 validated image filenames belonging to 2 classes.\n"
     ]
    }
   ],
   "source": [
    "train_generator = datagen.flow_from_dataframe(train_df,\n",
    "                                                 \"Data/train\",x_col='filename',y_col='category',\n",
    "                                                 target_size=Image_Size,\n",
    "                                                 class_mode='categorical',\n",
    "                                                 batch_size=batch_size,\n",
    "                                                    shuffle=False)\n",
    "\n",
    "validation_generator = datagen.flow_from_dataframe(\n",
    "    validate_df, \n",
    "    \"Data/train\", \n",
    "    x_col='filename',\n",
    "    y_col='category',\n",
    "    target_size=Image_Size,\n",
    "    class_mode='categorical',\n",
    "    batch_size=batch_size\n",
    ")"
   ]
  },
  {
   "cell_type": "code",
   "execution_count": null,
   "id": "sublime-dealer",
   "metadata": {},
   "outputs": [],
   "source": [
    "test_generator = datagen.flow_from_dataframe(train_df,\n",
    "                                                \"Data/test1\",x_col='filename',y_col='category',\n",
    "                                                 target_size=Image_Size,\n",
    "                                                 class_mode='categorical',\n",
    "                                                 batch_size=batch_size,                                               \n",
    "                                                 shuffle=False,\n",
    "                                                 )\n",
    "print(train_df)\n",
    "print(validate_df)"
   ]
  },
  {
   "cell_type": "code",
   "execution_count": 27,
   "id": "mathematical-comedy",
   "metadata": {},
   "outputs": [
    {
     "name": "stdout",
     "output_type": "stream",
     "text": [
      "Epoch 1/10\n",
      "4/4 [==============================] - 14s 3s/step - loss: 2.5896 - accuracy: 0.5161 - val_loss: 0.7088 - val_accuracy: 0.4167\n",
      "Epoch 2/10\n",
      "4/4 [==============================] - 12s 3s/step - loss: 1.3055 - accuracy: 0.6613 - val_loss: 0.5125 - val_accuracy: 0.7500\n",
      "Epoch 3/10\n",
      "4/4 [==============================] - 15s 4s/step - loss: 0.5784 - accuracy: 0.7778 - val_loss: 0.7300 - val_accuracy: 0.3889\n",
      "Epoch 4/10\n",
      "4/4 [==============================] - 11s 3s/step - loss: 0.4133 - accuracy: 0.7984 - val_loss: 0.4594 - val_accuracy: 0.7500\n",
      "Epoch 5/10\n",
      "4/4 [==============================] - 15s 4s/step - loss: 0.4348 - accuracy: 0.7823 - val_loss: 0.7057 - val_accuracy: 0.5556\n",
      "Epoch 6/10\n",
      "4/4 [==============================] - 13s 3s/step - loss: 0.2191 - accuracy: 0.9274 - val_loss: 0.9627 - val_accuracy: 0.5000\n",
      "Epoch 7/10\n",
      "4/4 [==============================] - 14s 4s/step - loss: 0.4267 - accuracy: 0.8472 - val_loss: 1.0747 - val_accuracy: 0.5556\n",
      "Epoch 8/10\n",
      "4/4 [==============================] - 11s 3s/step - loss: 0.3885 - accuracy: 0.8468 - val_loss: 0.2697 - val_accuracy: 1.0000\n",
      "Epoch 9/10\n",
      "4/4 [==============================] - 11s 3s/step - loss: 0.1018 - accuracy: 0.9677 - val_loss: 0.8270 - val_accuracy: 0.5556\n",
      "Epoch 10/10\n",
      "4/4 [==============================] - 11s 3s/step - loss: 0.1711 - accuracy: 0.9274 - val_loss: 0.4828 - val_accuracy: 0.7500\n"
     ]
    }
   ],
   "source": [
    "epochs=10\n",
    "history = model.fit_generator(\n",
    "    train_generator, \n",
    "    epochs=epochs,\n",
    "    validation_data=validation_generator,\n",
    "    validation_steps=total_validate//batch_size,\n",
    "    steps_per_epoch=4\n",
    ")"
   ]
  },
  {
   "cell_type": "code",
   "execution_count": 28,
   "id": "comprehensive-advance",
   "metadata": {},
   "outputs": [],
   "source": [
    "model.save(\"model1_dogcat_10epoch.h5\")"
   ]
  },
  {
   "cell_type": "code",
   "execution_count": 30,
   "id": "interim-assault",
   "metadata": {},
   "outputs": [
    {
     "name": "stdout",
     "output_type": "stream",
     "text": [
      "200\n"
     ]
    }
   ],
   "source": [
    "# sample(os.listdir(\"Data/train\"),200)\n",
    "test_filenames = sample(os.listdir(\"Data/test1\"),200)\n",
    "test_df = pd.DataFrame({\n",
    "    'filename': test_filenames\n",
    "})\n",
    "nb_samples = test_df.shape[0]\n",
    "print(nb_samples)"
   ]
  },
  {
   "cell_type": "code",
   "execution_count": null,
   "id": "generic-greensboro",
   "metadata": {},
   "outputs": [],
   "source": [
    "predict= model.predict_generator(test_generator, steps=1)\n",
    "print(len(predict))"
   ]
  },
  {
   "cell_type": "code",
   "execution_count": null,
   "id": "textile-classification",
   "metadata": {},
   "outputs": [],
   "source": [
    "test_df['category'] = np.argmax(predict, axis=1)\n",
    "\n",
    "\n",
    "label_map = dict((v,k) for k,v in train_generator.class_indices.items())\n",
    "test_df['category'] = test_df['category'].replace(label_map)\n",
    "print(test_df.head())\n",
    "test_df['category'] = test_df['category'].replace({ 'dog': 1, 'cat': 0 })\n"
   ]
  },
  {
   "cell_type": "code",
   "execution_count": null,
   "id": "associate-spouse",
   "metadata": {},
   "outputs": [],
   "source": [
    "sample_test = test_df.head(18)\n",
    "sample_test.head()\n",
    "plt.figure(figsize=(12, 24))\n",
    "for index, row in sample_test.iterrows():\n",
    "    filename = row['filename']\n",
    "    category = row['category']\n",
    "    img = load_img(\"Data/test1/\"+filename, target_size=Image_Size)\n",
    "    plt.subplot(6, 3, index+1)\n",
    "    plt.imshow(img)\n",
    "    plt.xlabel(filename + '(' + \"{}\".format(category) +')')\n",
    "plt.tight_layout()\n",
    "plt.show()"
   ]
  },
  {
   "cell_type": "code",
   "execution_count": null,
   "id": "failing-centre",
   "metadata": {},
   "outputs": [],
   "source": [
    "results = {\n",
    "    0:'notfresh',\n",
    "    1:'fresh'\n",
    "}\n",
    "customimage = \"Data/test1/33.jpg\"\n",
    "im=Image.open(customimage)\n",
    "im=im.resize(Image_Size)\n",
    "im=np.expand_dims(im,axis=0)\n",
    "im=np.array(im)\n",
    "im=im/255\n",
    "pred=model.predict_classes([im])[0]\n",
    "print(pred,results[pred])\n",
    "load_img(customimage, target_size=(300,300))"
   ]
  },
  {
   "cell_type": "code",
   "execution_count": null,
   "id": "specified-constitution",
   "metadata": {},
   "outputs": [],
   "source": [
    "results = {\n",
    "    0:'notfresh',\n",
    "    1:'fresh'\n",
    "}\n",
    "customimage = \"Data/test1/34.jpg\"\n",
    "im=Image.open(customimage)\n",
    "im=im.resize(Image_Size)\n",
    "im=np.expand_dims(im,axis=0)\n",
    "im=np.array(im)\n",
    "im=im/255\n",
    "pred=model.predict_classes([im])[0]\n",
    "print(pred,results[pred])\n",
    "load_img(customimage, target_size=(300,300))"
   ]
  },
  {
   "cell_type": "code",
   "execution_count": null,
   "id": "analyzed-merit",
   "metadata": {},
   "outputs": [],
   "source": []
  }
 ],
 "metadata": {
  "kernelspec": {
   "display_name": "Python [conda env:PythonAdv] *",
   "language": "python",
   "name": "conda-env-PythonAdv-py"
  },
  "language_info": {
   "codemirror_mode": {
    "name": "ipython",
    "version": 3
   },
   "file_extension": ".py",
   "mimetype": "text/x-python",
   "name": "python",
   "nbconvert_exporter": "python",
   "pygments_lexer": "ipython3",
   "version": "3.6.13"
  }
 },
 "nbformat": 4,
 "nbformat_minor": 5
}
